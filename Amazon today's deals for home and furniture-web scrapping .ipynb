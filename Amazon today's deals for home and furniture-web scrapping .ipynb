{
 "cells": [
  {
   "cell_type": "code",
   "execution_count": 28,
   "id": "2333aa32",
   "metadata": {},
   "outputs": [],
   "source": [
    "import selenium\n",
    "import pandas as pd\n",
    "from selenium import webdriver\n",
    "from selenium.webdriver.support.ui import Select\n"
   ]
  },
  {
   "cell_type": "code",
   "execution_count": 51,
   "id": "a996435a",
   "metadata": {},
   "outputs": [],
   "source": [
    "driverpath=\"E:\\chromedriver_win32\\chromedriver.exe\"\n",
    "driver=webdriver.Chrome(executable_path=driverpath)\n",
    "driver.get(\"https://www.amazon.in/s?k=home+and+kitchen&i=todays-deals&crid=3GK7HLQ6NVDQS&sprefix=home+and+%2Ctodays-deals%2C286&ref=nb_sb_ss_ts-doa-p_1_9\")\n",
    "writer=pd.ExcelWriter(r\"C:\\Users\\Merit\\Desktop\"+\"\\\\\"+'Deals.xlsx',engine='xlsxwriter')\n",
    "items=[]\n",
    "names=driver.find_elements_by_xpath(\"//h2[contains(@class,'a-size-mini a-spacing-none a-color-base s-line-clamp-2')]\")\n",
    "for i in names:\n",
    "    items.append(i.text)\n",
    "newprice=[]\n",
    "price=driver.find_elements_by_xpath(\"//div[contains(@class,'a-row a-size-base a-color-base')]//following::span[contains(@class,'a-price-whole')]\")\n",
    "for j in price:\n",
    "    newprice.append(j.text)\n",
    "oldprice=[]\n",
    "op=driver.find_elements_by_xpath(\"//div[contains(@class,'a-row a-size-base a-color-base')]//following::span[contains(@class,'a-price a-text-price')]\")\n",
    "for k in op:\n",
    "    oldprice.append(k.text)\n",
    "deal=pd.DataFrame(list(zip(items,oldprice,newprice)),columns=[\"Products\",\"Before discount\",\"After discount\"])\n",
    "deal.to_excel(writer,sheet_name=\"Deals\",index=False)\n",
    "writer.save()\n",
    "driver.close()"
   ]
  }
 ],
 "metadata": {
  "kernelspec": {
   "display_name": "Python 3 (ipykernel)",
   "language": "python",
   "name": "python3"
  },
  "language_info": {
   "codemirror_mode": {
    "name": "ipython",
    "version": 3
   },
   "file_extension": ".py",
   "mimetype": "text/x-python",
   "name": "python",
   "nbconvert_exporter": "python",
   "pygments_lexer": "ipython3",
   "version": "3.9.6"
  }
 },
 "nbformat": 4,
 "nbformat_minor": 5
}
