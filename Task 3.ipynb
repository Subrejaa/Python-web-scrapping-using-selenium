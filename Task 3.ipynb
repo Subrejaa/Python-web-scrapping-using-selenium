{
 "cells": [
  {
   "cell_type": "code",
   "execution_count": 1,
   "id": "13e679f8",
   "metadata": {},
   "outputs": [],
   "source": [
    "import pandas as pd\n",
    "import selenium\n",
    "from selenium import webdriver\n",
    "from selenium.webdriver.support.ui import Select"
   ]
  },
  {
   "cell_type": "code",
   "execution_count": 24,
   "id": "35aea048",
   "metadata": {},
   "outputs": [
    {
     "name": "stdout",
     "output_type": "stream",
     "text": [
      "No file found\n"
     ]
    }
   ],
   "source": [
    "driverPath = r\"C:\\Users\\Merit\\Desktop\\Python\\edgedriver_win64\\msedgedriver.exe\"\n",
    "driver=webdriver.Edge(executable_path=driverPath)\n",
    "driver.get(\"https://ai.fmcsa.dot.gov/hhg/Search.asp?ads=a\")\n",
    "writer=pd.ExcelWriter(r\"C:\\Users\\Merit\\Desktop\"+\"\\\\\"+'States.xlsx',engine='xlsxwriter')\n",
    "\n",
    "try:  \n",
    "    for i in range(1,98):\n",
    "        state=[]\n",
    "        driver.find_element_by_xpath(\"//option[contains(text(),'Please select state')]//following::option[{}]\".format(i)).click()\n",
    "        driver.find_element_by_xpath(\"//input[@name='Submit']\").click()\n",
    "        country=driver.find_elements_by_xpath(\"//h2[@class='titleheadline']//following::tr[contains(@scope,'row')]\") \n",
    "        for j in country:\n",
    "            state.append(j.text.split(\"  \"))\n",
    "        driver.back()\n",
    "        statedf=pd.DataFrame(state,columns=[\"Company Name\",\"HeadQuarters\",\"Company Type\",\"Size\"])\n",
    "        statedf.to_excel(writer,sheet_name=str(i),index=False)\n",
    "    writer.save()\n",
    "except:\n",
    "    print(\"No file found\")\n",
    "    \n",
    "finally:    \n",
    "    writer.close()\n",
    "    driver.close()\n",
    "        \n",
    "    \n",
    "    \n",
    "   "
   ]
  },
  {
   "cell_type": "code",
   "execution_count": null,
   "id": "d5a1065a",
   "metadata": {},
   "outputs": [],
   "source": []
  }
 ],
 "metadata": {
  "kernelspec": {
   "display_name": "Python 3 (ipykernel)",
   "language": "python",
   "name": "python3"
  },
  "language_info": {
   "codemirror_mode": {
    "name": "ipython",
    "version": 3
   },
   "file_extension": ".py",
   "mimetype": "text/x-python",
   "name": "python",
   "nbconvert_exporter": "python",
   "pygments_lexer": "ipython3",
   "version": "3.9.6"
  }
 },
 "nbformat": 4,
 "nbformat_minor": 5
}
